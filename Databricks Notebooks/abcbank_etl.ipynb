{
 "cells": [
  {
   "cell_type": "code",
   "execution_count": 0,
   "metadata": {
    "application/vnd.databricks.v1+cell": {
     "cellMetadata": {
      "byteLimit": 2048000,
      "rowLimit": 10000
     },
     "inputWidgets": {},
     "nuid": "40ee6059-1e87-4f41-9c6b-11ff61d8a699",
     "showTitle": false,
     "tableResultSettingsMap": {},
     "title": ""
    }
   },
   "outputs": [
    {
     "output_type": "execute_result",
     "data": {
      "text/plain": [
       "[SecretScope(name='abcbank_secretScope')]"
      ]
     },
     "execution_count": 2,
     "metadata": {},
     "output_type": "execute_result"
    }
   ],
   "source": [
    "dbutils.secrets.listScopes()"
   ]
  },
  {
   "cell_type": "code",
   "execution_count": 0,
   "metadata": {
    "application/vnd.databricks.v1+cell": {
     "cellMetadata": {
      "byteLimit": 2048000,
      "rowLimit": 10000
     },
     "inputWidgets": {},
     "nuid": "d8c6651a-9937-4221-ad1b-b6699c625096",
     "showTitle": false,
     "tableResultSettingsMap": {},
     "title": ""
    }
   },
   "outputs": [
    {
     "output_type": "execute_result",
     "data": {
      "text/plain": [
       "[SecretMetadata(key='client-id'),\n",
       " SecretMetadata(key='client-secret'),\n",
       " SecretMetadata(key='directory-id')]"
      ]
     },
     "execution_count": 3,
     "metadata": {},
     "output_type": "execute_result"
    }
   ],
   "source": [
    "dbutils.secrets.list(\"abcbank_secretScope\")"
   ]
  },
  {
   "cell_type": "code",
   "execution_count": 0,
   "metadata": {
    "application/vnd.databricks.v1+cell": {
     "cellMetadata": {
      "byteLimit": 2048000,
      "rowLimit": 10000
     },
     "inputWidgets": {},
     "nuid": "68447c27-a74f-4cd9-9ebb-01ea700c54c3",
     "showTitle": false,
     "tableResultSettingsMap": {},
     "title": ""
    }
   },
   "outputs": [],
   "source": [
    "client_id = dbutils.secrets.get(\"abcbank_secretScope\", \"client-id\")\n",
    "client_secret = dbutils.secrets.get(\"abcbank_secretScope\", \"client-secret\")\n",
    "directory_id = dbutils.secrets.get(\"abcbank_secretScope\", \"directory-id\")"
   ]
  },
  {
   "cell_type": "code",
   "execution_count": 0,
   "metadata": {
    "application/vnd.databricks.v1+cell": {
     "cellMetadata": {
      "byteLimit": 2048000,
      "rowLimit": 10000
     },
     "inputWidgets": {},
     "nuid": "bd91861f-a2d1-4ca1-9b49-5d042a15e1ce",
     "showTitle": false,
     "tableResultSettingsMap": {},
     "title": ""
    }
   },
   "outputs": [],
   "source": [
    "configs = {\"fs.azure.account.auth.type\": \"OAuth\",\n",
    "          \"fs.azure.account.oauth.provider.type\": \"org.apache.hadoop.fs.azurebfs.oauth2.ClientCredsTokenProvider\",\n",
    "          \"fs.azure.account.oauth2.client.id\": client_id,\n",
    "          \"fs.azure.account.oauth2.client.secret\": client_secret,\n",
    "          \"fs.azure.account.oauth2.client.endpoint\": f\"https://login.microsoftonline.com/{directory_id}/oauth2/token\"}"
   ]
  },
  {
   "cell_type": "code",
   "execution_count": 0,
   "metadata": {
    "application/vnd.databricks.v1+cell": {
     "cellMetadata": {
      "byteLimit": 2048000,
      "rowLimit": 10000
     },
     "inputWidgets": {},
     "nuid": "9acb0bc3-5f1c-4da3-93d3-aadd5c094a5c",
     "showTitle": false,
     "tableResultSettingsMap": {},
     "title": ""
    }
   },
   "outputs": [],
   "source": [
    "storage_account = \"dlsaabcbank\"\n",
    "\n",
    "container_raw = \"silver\"\n",
    "container_processed = \"gold\"\n",
    "\n",
    "source_raw = f\"abfss://{container_raw}@{storage_account}.dfs.core.windows.net/\"\n",
    "mount_point_raw = f\"/mnt/{storage_account}/{container_raw}\"\n",
    "\n",
    "source_processed = f\"abfss://{container_processed}@{storage_account}.dfs.core.windows.net/\"\n",
    "mount_point_processed = f\"/mnt/{storage_account}/{container_processed}\""
   ]
  },
  {
   "cell_type": "code",
   "execution_count": 0,
   "metadata": {
    "application/vnd.databricks.v1+cell": {
     "cellMetadata": {
      "byteLimit": 2048000,
      "rowLimit": 10000
     },
     "inputWidgets": {},
     "nuid": "fb4bb49e-a0ed-4012-bde0-9f4351dd479a",
     "showTitle": false,
     "tableResultSettingsMap": {},
     "title": ""
    }
   },
   "outputs": [
    {
     "output_type": "stream",
     "name": "stdout",
     "output_type": "stream",
     "text": [
      "/mnt/dlsaabcbank/silver has been unmounted.\nUnmount existing mount at /mnt/dlsaabcbank/silver\nMounted successfully at /mnt/dlsaabcbank/silver\n"
     ]
    }
   ],
   "source": [
    "if any(mount.mountPoint == mount_point_raw for mount in dbutils.fs.mounts()):\n",
    "    dbutils.fs.unmount(mount_point_raw)\n",
    "    print(f\"Unmount existing mount at {mount_point_raw}\")\n",
    "\n",
    "try:\n",
    "    dbutils.fs.mount(\n",
    "        source = source_raw,\n",
    "        mount_point = mount_point_raw,\n",
    "        extra_configs = configs\n",
    "    )\n",
    "    print(f\"Mounted successfully at {mount_point_raw}\")\n",
    "except Exception as e:\n",
    "    print(f\"Error mounting: {mount_point_raw}\")"
   ]
  },
  {
   "cell_type": "code",
   "execution_count": 0,
   "metadata": {
    "application/vnd.databricks.v1+cell": {
     "cellMetadata": {
      "byteLimit": 2048000,
      "rowLimit": 10000
     },
     "inputWidgets": {},
     "nuid": "ed6189ec-0ebc-4866-8e91-e6c020ccc714",
     "showTitle": false,
     "tableResultSettingsMap": {},
     "title": ""
    }
   },
   "outputs": [
    {
     "output_type": "stream",
     "name": "stdout",
     "output_type": "stream",
     "text": [
      "/mnt/dlsaabcbank/gold has been unmounted.\nUnmount existing mount at /mnt/dlsaabcbank/gold\nMounted successfully at /mnt/dlsaabcbank/gold\n"
     ]
    }
   ],
   "source": [
    "if any(mount.mountPoint == mount_point_processed for mount in dbutils.fs.mounts()):\n",
    "    dbutils.fs.unmount(mount_point_processed)\n",
    "    print(f\"Unmount existing mount at {mount_point_processed}\")\n",
    "\n",
    "try:\n",
    "    dbutils.fs.mount(\n",
    "        source = source_processed,\n",
    "        mount_point = mount_point_processed,\n",
    "        extra_configs = configs\n",
    "    )\n",
    "    print(f\"Mounted successfully at {mount_point_processed}\")\n",
    "except Exception as e:\n",
    "    print(f\"Error mounting: {mount_point_processed}\")"
   ]
  },
  {
   "cell_type": "code",
   "execution_count": 0,
   "metadata": {
    "application/vnd.databricks.v1+cell": {
     "cellMetadata": {
      "byteLimit": 2048000,
      "rowLimit": 10000
     },
     "inputWidgets": {},
     "nuid": "39acaaaf-af0d-4c69-aacd-68e15c8edab0",
     "showTitle": false,
     "tableResultSettingsMap": {},
     "title": ""
    }
   },
   "outputs": [],
   "source": [
    "delta_customers_location = \"delta/customers\"\n",
    "delta_accounts_location = \"delta/accounts\"\n",
    "delta_transactions_location = \"delta/transactions\"\n",
    "delta_loans_location = \"delta/loans\"\n",
    "delta_loan_payments_location = \"delta/loan_payments\"\n",
    "\n",
    "delta_customers_table_path = f\"{mount_point_raw}/{delta_customers_location}\"\n",
    "delta_accounts_table_path = f\"{mount_point_raw}/{delta_accounts_location}\"\n",
    "delta_transactions_table_path = f\"{mount_point_raw}/{delta_transactions_location}\"\n",
    "delta_loans_table_path = f\"{mount_point_raw}/{delta_loans_location}\"\n",
    "delta_loan_payments_table_path = f\"{mount_point_raw}/{delta_loan_payments_location}\""
   ]
  },
  {
   "cell_type": "code",
   "execution_count": 0,
   "metadata": {
    "application/vnd.databricks.v1+cell": {
     "cellMetadata": {
      "byteLimit": 2048000,
      "rowLimit": 10000
     },
     "inputWidgets": {},
     "nuid": "78e85e44-b1ff-4a3d-a229-a83ce5cb7758",
     "showTitle": false,
     "tableResultSettingsMap": {},
     "title": ""
    }
   },
   "outputs": [
    {
     "output_type": "stream",
     "name": "stdout",
     "output_type": "stream",
     "text": [
      "+----------+-----------+----------+---------+-------+\n|account_id|customer_id|first_name|last_name|balance|\n+----------+-----------+----------+---------+-------+\n|        28|          7|     James| Martinez|2900.00|\n|        24|         11| Alexander|   Thomas|2600.00|\n|        13|         29|   Michael|  Collins|1300.25|\n|        11|          3|   Michael|  Johnson|1100.75|\n|        15|         47|    Andrew|     Gray| 700.75|\n|        18|          5|     David|   Wilson|1600.50|\n|        16|         18|    Amelia|    Adams|1400.00|\n|        26|         25|    Daniel| Campbell|2800.50|\n|        21|         53|     James|  Jenkins| 300.25|\n|        29|         58|    Sophia|   Hughes|  75.25|\n|        32|          9|   William|    Lopez|3300.00|\n|        30|         32|    Sophia|   Morris|3100.50|\n|        22|         37| Alexander|     Bell|2400.50|\n|         2|         12|  Isabella|      Lee|2500.75|\n|        20|         21|    Andrew| Mitchell|2000.00|\n+----------+-----------+----------+---------+-------+\nonly showing top 15 rows\n\n"
     ]
    }
   ],
   "source": [
    "from delta.tables import DeltaTable\n",
    "\n",
    "df_customers = spark.read.format(\"delta\").load(delta_customers_table_path)\n",
    "df_accounts = spark.read.format(\"delta\").load(delta_accounts_table_path)\n",
    "df_transactions = spark.read.format(\"delta\").load(delta_transactions_table_path)\n",
    "df_loans = spark.read.format(\"delta\").load(delta_loans_table_path)\n",
    "df_loan_payments = spark.read.format(\"delta\").load(delta_loan_payments_table_path)\n",
    "\n",
    "df_accounts_customers = df_accounts.join(df_customers, on=\"customer_id\", how=\"left\") \\\n",
    "    .select(\"account_id\", \"customer_id\", \"first_name\", \"last_name\", \"balance\")\n",
    "\n",
    "df_accounts_customers.show(15)"
   ]
  },
  {
   "cell_type": "code",
   "execution_count": 0,
   "metadata": {
    "application/vnd.databricks.v1+cell": {
     "cellMetadata": {
      "byteLimit": 2048000,
      "rowLimit": 10000
     },
     "inputWidgets": {},
     "nuid": "c4afc577-b802-4e5d-a539-5f6d106ba737",
     "showTitle": false,
     "tableResultSettingsMap": {},
     "title": ""
    }
   },
   "outputs": [
    {
     "output_type": "stream",
     "name": "stdout",
     "output_type": "stream",
     "text": [
      "+-----------+-----------+---------+---------------+-------------+-----+------+----------+------------+-------+-------------+\n|customer_id| first_name|last_name|        address|         city|state|   zip|account_id|account_type|balance|total_balance|\n+-----------+-----------+---------+---------------+-------------+-----+------+----------+------------+-------+-------------+\n|          1|       John|      Doe|     123 Elm St|      Toronto|   ON|M4B1B3|        88|    Checking|8900.00|       8900.0|\n|         10|        Ava| Anderson|909 Cypress Ave|  Quebec City|   QC|G1A0A1|        52|    Checking|5300.00|       5300.0|\n|         11|  Alexander|   Thomas| 1010 Willow Rd|   St. John's|   NL|A1A0A1|        24|    Checking|2600.00|       2600.0|\n|         12|   Isabella|      Lee| 1111 Poplar St|  Fredericton|   NB|E3B0A1|        64|    Checking|6500.00|      9000.75|\n|         13|     Daniel|   Harris|  1212 Ash Blvd|Charlottetown|   PE|C1A0A1|        44|    Checking|4500.00|       4500.0|\n|         14|     Sophia|    Young|  1313 Beech Dr|  Yellowknife|   NT|X1A0A1|         9|     Savings| 900.25|       900.25|\n|         15|    Matthew|     King|  1414 Cedar Ln|   Whitehorse|   YT|Y1A0A1|        38|    Checking|3900.50|       3900.5|\n|         16|  Charlotte|    Scott|    1515 Elm St|      Iqaluit|   NU|X0A0A1|        58|    Checking|5900.50|       5900.5|\n|         17|     Joseph|    Green| 1616 Maple Ave|       Regina|   SK|S4P0A1|        72|    Checking|7300.00|       7300.0|\n|         18|     Amelia|    Adams|    1717 Oak Dr|    Saskatoon|   SK|S7K0A1|        16|    Checking|1400.00|       1400.0|\n|         19|Christopher|    Baker|   1818 Pine Rd|  Thunder Bay|   ON|P7A0A1|        40|    Checking|4100.00|       4100.0|\n|          2|       Jane|    Smith|  456 Maple Ave|       Ottawa|   ON|K1A0B1|        82|    Checking|8300.50|       8300.5|\n|         20|        Mia|   Nelson|1919 Birch Blvd|       London|   ON|N6A0A1|        60|    Checking|6100.00|       6100.0|\n|         21|     Andrew| Mitchell| 2020 Spruce Ln|     Hamilton|   ON|L8P0A1|        86|    Checking|8700.50|      10700.5|\n|         22|     Harper|  Roberts|    2121 Fir St|    Kitchener|   ON|N2G0A1|        76|    Checking|7700.00|       7700.0|\n+-----------+-----------+---------+---------------+-------------+-----+------+----------+------------+-------+-------------+\nonly showing top 15 rows\n\n"
     ]
    }
   ],
   "source": [
    "from pyspark.sql.functions import sum\n",
    "\n",
    "df_joined = df_customers.join(df_accounts, on=\"customer_id\", how=\"inner\") \\\n",
    "  .drop(df_customers.ingestion_timestamp) \\\n",
    "  .drop(df_accounts.ingestion_timestamp) \\\n",
    "\n",
    "df_aggregated = df_joined.groupBy(\"customer_id\", \"first_name\", \"last_name\") \\\n",
    "    .agg(sum(\"balance\").alias(\"total_balance\"))\n",
    "\n",
    "df_final = df_joined.join(df_aggregated, on=[\"customer_id\", \"first_name\", \"last_name\"], how=\"inner\")\n",
    "\n",
    "df_final.show(15)"
   ]
  },
  {
   "cell_type": "code",
   "execution_count": 0,
   "metadata": {
    "application/vnd.databricks.v1+cell": {
     "cellMetadata": {
      "byteLimit": 2048000,
      "rowLimit": 10000
     },
     "inputWidgets": {},
     "nuid": "b4bec1a4-3c02-430e-a356-b4442d52a68d",
     "showTitle": false,
     "tableResultSettingsMap": {},
     "title": ""
    }
   },
   "outputs": [],
   "source": [
    "delta_accounts_customers_location = \"delta/accounts_customers\"\n",
    "delta_final_location = \"delta/final\"\n",
    "\n",
    "delta_accounts_customers_table_path = f\"{mount_point_processed}/{delta_accounts_customers_location}\"\n",
    "delta_final_table_path = f\"{mount_point_processed}/{delta_final_location}\""
   ]
  },
  {
   "cell_type": "code",
   "execution_count": 0,
   "metadata": {
    "application/vnd.databricks.v1+cell": {
     "cellMetadata": {
      "byteLimit": 2048000,
      "rowLimit": 10000
     },
     "inputWidgets": {},
     "nuid": "f59fcabc-b6db-400a-9b90-b7a1caf7dd1b",
     "showTitle": false,
     "tableResultSettingsMap": {},
     "title": ""
    }
   },
   "outputs": [
    {
     "output_type": "stream",
     "name": "stdout",
     "output_type": "stream",
     "text": [
      "+----------+-----------+----------+----------+-------+\n|account_id|customer_id|first_name| last_name|balance|\n+----------+-----------+----------+----------+-------+\n|        41|         51|    Daniel|      Ross| 250.25|\n|        28|          7|     James|  Martinez|2900.00|\n|        38|         15|   Matthew|      King|3900.50|\n|        89|         54|     Emily|     Perry| 850.25|\n|        24|         11| Alexander|    Thomas|2600.00|\n|        13|         29|   Michael|   Collins|1300.25|\n|        65|         69|    Joseph|      Diaz| 550.25|\n|        54|         42| Charlotte|Richardson|5500.50|\n|        71|         73|    Andrew|  Hamilton| 625.75|\n|        73|         87|   William|  McDonald| 650.25|\n|        14|         64|  Isabella|  Gonzalez|3200.50|\n|        11|          3|   Michael|   Johnson|1100.75|\n|        80|         30| Elizabeth|   Stewart|8100.00|\n|         4|         34|    Olivia|      Reed|3000.25|\n|        69|         59|      John|    Flores| 600.25|\n+----------+-----------+----------+----------+-------+\nonly showing top 15 rows\n\n"
     ]
    }
   ],
   "source": [
    "from delta.tables import DeltaTable\n",
    "\n",
    "if DeltaTable.isDeltaTable(spark, delta_accounts_customers_table_path):\n",
    "    existing_data = DeltaTable.forPath(spark, delta_accounts_customers_table_path)\n",
    "    \n",
    "    (existing_data.alias(\"existing\") \\\n",
    "        .merge(df_accounts_customers.alias(\"new\"), \"existing.account_id = new.account_id\") \\\n",
    "        .whenMatchedUpdateAll() \\\n",
    "        .whenNotMatchedInsertAll() \\\n",
    "        .execute())\n",
    "else:\n",
    "    df_accounts_customers.write.format(\"delta\").mode(\"overwrite\").save(delta_accounts_customers_table_path)\n",
    "\n",
    "spark.read.format(\"delta\").load(delta_accounts_customers_table_path).show(15)"
   ]
  },
  {
   "cell_type": "code",
   "execution_count": 0,
   "metadata": {
    "application/vnd.databricks.v1+cell": {
     "cellMetadata": {
      "byteLimit": 2048000,
      "rowLimit": 10000
     },
     "inputWidgets": {},
     "nuid": "2063e71d-598d-4dd7-b32f-2abc329aed80",
     "showTitle": false,
     "tableResultSettingsMap": {},
     "title": ""
    }
   },
   "outputs": [
    {
     "output_type": "stream",
     "name": "stdout",
     "output_type": "stream",
     "text": [
      "+-----------+-----------+---------+---------------+-------------+-----+------+----------+------------+-------+-------------+\n|customer_id| first_name|last_name|        address|         city|state|   zip|account_id|account_type|balance|total_balance|\n+-----------+-----------+---------+---------------+-------------+-----+------+----------+------------+-------+-------------+\n|          1|       John|      Doe|     123 Elm St|      Toronto|   ON|M4B1B3|        88|    Checking|8900.00|       8900.0|\n|         10|        Ava| Anderson|909 Cypress Ave|  Quebec City|   QC|G1A0A1|        52|    Checking|5300.00|       5300.0|\n|         11|  Alexander|   Thomas| 1010 Willow Rd|   St. John's|   NL|A1A0A1|        24|    Checking|2600.00|       2600.0|\n|         12|   Isabella|      Lee| 1111 Poplar St|  Fredericton|   NB|E3B0A1|        64|    Checking|6500.00|      9000.75|\n|         13|     Daniel|   Harris|  1212 Ash Blvd|Charlottetown|   PE|C1A0A1|        44|    Checking|4500.00|       4500.0|\n|         14|     Sophia|    Young|  1313 Beech Dr|  Yellowknife|   NT|X1A0A1|         9|     Savings| 900.25|       900.25|\n|         15|    Matthew|     King|  1414 Cedar Ln|   Whitehorse|   YT|Y1A0A1|        38|    Checking|3900.50|       3900.5|\n|         16|  Charlotte|    Scott|    1515 Elm St|      Iqaluit|   NU|X0A0A1|        58|    Checking|5900.50|       5900.5|\n|         17|     Joseph|    Green| 1616 Maple Ave|       Regina|   SK|S4P0A1|        72|    Checking|7300.00|       7300.0|\n|         18|     Amelia|    Adams|    1717 Oak Dr|    Saskatoon|   SK|S7K0A1|        16|    Checking|1400.00|       1400.0|\n|         19|Christopher|    Baker|   1818 Pine Rd|  Thunder Bay|   ON|P7A0A1|        40|    Checking|4100.00|       4100.0|\n|          2|       Jane|    Smith|  456 Maple Ave|       Ottawa|   ON|K1A0B1|        82|    Checking|8300.50|       8300.5|\n|         20|        Mia|   Nelson|1919 Birch Blvd|       London|   ON|N6A0A1|        60|    Checking|6100.00|       6100.0|\n|         21|     Andrew| Mitchell| 2020 Spruce Ln|     Hamilton|   ON|L8P0A1|        86|    Checking|8700.50|      10700.5|\n|         22|     Harper|  Roberts|    2121 Fir St|    Kitchener|   ON|N2G0A1|        76|    Checking|7700.00|       7700.0|\n+-----------+-----------+---------+---------------+-------------+-----+------+----------+------------+-------+-------------+\nonly showing top 15 rows\n\n"
     ]
    }
   ],
   "source": [
    "if DeltaTable.isDeltaTable(spark, delta_final_table_path):\n",
    "    existing_data = DeltaTable.forPath(spark, delta_final_table_path)\n",
    "    \n",
    "    (existing_data.alias(\"existing\") \\\n",
    "        .merge(df_final.alias(\"new\"), \"existing.account_id = new.account_id\") \\\n",
    "        .whenMatchedUpdateAll() \\\n",
    "        .whenNotMatchedInsertAll() \\\n",
    "        .execute())\n",
    "else:\n",
    "    df_final.write.format(\"delta\").mode(\"overwrite\").save(delta_final_table_path)\n",
    "\n",
    "spark.read.format(\"delta\").load(delta_final_table_path).show(15)"
   ]
  },
  {
   "cell_type": "code",
   "execution_count": 0,
   "metadata": {
    "application/vnd.databricks.v1+cell": {
     "cellMetadata": {
      "batchId": -3931173057606665,
      "byteLimit": 2048000,
      "rowLimit": 10000
     },
     "inputWidgets": {},
     "nuid": "ed0957f0-e33b-4098-84cf-5daabdcee2b4",
     "showTitle": false,
     "tableResultSettingsMap": {},
     "title": ""
    }
   },
   "outputs": [],
   "source": []
  }
 ],
 "metadata": {
  "application/vnd.databricks.v1+notebook": {
   "dashboards": [],
   "environmentMetadata": {
    "base_environment": "",
    "client": "1"
   },
   "language": "python",
   "notebookMetadata": {
    "pythonIndentUnit": 2
   },
   "notebookName": "abcbank_etl",
   "widgets": {}
  },
  "language_info": {
   "name": "python"
  }
 },
 "nbformat": 4,
 "nbformat_minor": 0
}