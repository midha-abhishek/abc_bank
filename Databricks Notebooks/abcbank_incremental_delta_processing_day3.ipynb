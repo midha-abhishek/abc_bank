{
 "cells": [
  {
   "cell_type": "code",
   "execution_count": 0,
   "metadata": {
    "application/vnd.databricks.v1+cell": {
     "cellMetadata": {
      "byteLimit": 2048000,
      "rowLimit": 10000
     },
     "inputWidgets": {},
     "nuid": "35cc61fb-3a60-4188-8ae9-5e4866a62df8",
     "showTitle": false,
     "tableResultSettingsMap": {},
     "title": ""
    }
   },
   "outputs": [
    {
     "output_type": "execute_result",
     "data": {
      "text/plain": [
       "[SecretScope(name='abcbank_secretScope')]"
      ]
     },
     "execution_count": 151,
     "metadata": {},
     "output_type": "execute_result"
    }
   ],
   "source": [
    "dbutils.secrets.listScopes()"
   ]
  },
  {
   "cell_type": "code",
   "execution_count": 0,
   "metadata": {
    "application/vnd.databricks.v1+cell": {
     "cellMetadata": {
      "byteLimit": 2048000,
      "rowLimit": 10000
     },
     "inputWidgets": {},
     "nuid": "ba90db7d-6444-4b5b-a99e-e6381d087b37",
     "showTitle": false,
     "tableResultSettingsMap": {},
     "title": ""
    }
   },
   "outputs": [
    {
     "output_type": "execute_result",
     "data": {
      "text/plain": [
       "[SecretMetadata(key='client-id'),\n",
       " SecretMetadata(key='client-secret'),\n",
       " SecretMetadata(key='directory-id')]"
      ]
     },
     "execution_count": 152,
     "metadata": {},
     "output_type": "execute_result"
    }
   ],
   "source": [
    "dbutils.secrets.list(\"abcbank_secretScope\")"
   ]
  },
  {
   "cell_type": "code",
   "execution_count": 0,
   "metadata": {
    "application/vnd.databricks.v1+cell": {
     "cellMetadata": {
      "byteLimit": 2048000,
      "rowLimit": 10000
     },
     "inputWidgets": {},
     "nuid": "b6209253-f4d3-4496-9025-6ebbe71cfa33",
     "showTitle": false,
     "tableResultSettingsMap": {},
     "title": ""
    }
   },
   "outputs": [],
   "source": [
    "client_id = dbutils.secrets.get(\"abcbank_secretScope\", \"client-id\")\n",
    "client_secret = dbutils.secrets.get(\"abcbank_secretScope\", \"client-secret\")\n",
    "directory_id = dbutils.secrets.get(\"abcbank_secretScope\", \"directory-id\")"
   ]
  },
  {
   "cell_type": "code",
   "execution_count": 0,
   "metadata": {
    "application/vnd.databricks.v1+cell": {
     "cellMetadata": {
      "byteLimit": 2048000,
      "rowLimit": 10000
     },
     "inputWidgets": {},
     "nuid": "84359441-79bb-4f29-bebc-ab75cb7967fe",
     "showTitle": false,
     "tableResultSettingsMap": {},
     "title": ""
    }
   },
   "outputs": [],
   "source": [
    "configs = {\"fs.azure.account.auth.type\": \"OAuth\",\n",
    "          \"fs.azure.account.oauth.provider.type\": \"org.apache.hadoop.fs.azurebfs.oauth2.ClientCredsTokenProvider\",\n",
    "          \"fs.azure.account.oauth2.client.id\": client_id,\n",
    "          \"fs.azure.account.oauth2.client.secret\": client_secret,\n",
    "          \"fs.azure.account.oauth2.client.endpoint\": f\"https://login.microsoftonline.com/{directory_id}/oauth2/token\"}"
   ]
  },
  {
   "cell_type": "code",
   "execution_count": 0,
   "metadata": {
    "application/vnd.databricks.v1+cell": {
     "cellMetadata": {
      "byteLimit": 2048000,
      "rowLimit": 10000
     },
     "inputWidgets": {},
     "nuid": "daf741f8-4149-4c21-9116-32b33b2f4ca7",
     "showTitle": false,
     "tableResultSettingsMap": {},
     "title": ""
    }
   },
   "outputs": [],
   "source": [
    "storage_account = \"dlsaabcbank\"\n",
    "\n",
    "container_raw = \"bronze\"\n",
    "container_processed = \"silver\"\n",
    "\n",
    "source_raw = f\"abfss://{container_raw}@{storage_account}.dfs.core.windows.net/\"\n",
    "mount_point_raw = f\"/mnt/{storage_account}/{container_raw}\"\n",
    "\n",
    "source_processed = f\"abfss://{container_processed}@{storage_account}.dfs.core.windows.net/\"\n",
    "mount_point_processed = f\"/mnt/{storage_account}/{container_processed}\""
   ]
  },
  {
   "cell_type": "code",
   "execution_count": 0,
   "metadata": {
    "application/vnd.databricks.v1+cell": {
     "cellMetadata": {
      "byteLimit": 2048000,
      "rowLimit": 10000
     },
     "inputWidgets": {},
     "nuid": "e0cc0217-5de4-46c1-af9d-d2c0601c07e7",
     "showTitle": false,
     "tableResultSettingsMap": {},
     "title": ""
    }
   },
   "outputs": [
    {
     "output_type": "stream",
     "name": "stdout",
     "output_type": "stream",
     "text": [
      "/mnt/dlsaabcbank/bronze has been unmounted.\nUnmount existing mount at /mnt/dlsaabcbank/bronze\nMounted successfully at /mnt/dlsaabcbank/bronze\n"
     ]
    }
   ],
   "source": [
    "if any(mount.mountPoint == mount_point_raw for mount in dbutils.fs.mounts()):\n",
    "    dbutils.fs.unmount(mount_point_raw)\n",
    "    print(f\"Unmount existing mount at {mount_point_raw}\")\n",
    "\n",
    "try:\n",
    "    dbutils.fs.mount(\n",
    "        source = source_raw,\n",
    "        mount_point = mount_point_raw,\n",
    "        extra_configs = configs\n",
    "    )\n",
    "    print(f\"Mounted successfully at {mount_point_raw}\")\n",
    "except Exception as e:\n",
    "    print(f\"Error mounting: {mount_point_raw}\")"
   ]
  },
  {
   "cell_type": "code",
   "execution_count": 0,
   "metadata": {
    "application/vnd.databricks.v1+cell": {
     "cellMetadata": {
      "byteLimit": 2048000,
      "rowLimit": 10000
     },
     "inputWidgets": {},
     "nuid": "f060d0a6-fc67-469f-a1c4-0a255105f0ae",
     "showTitle": false,
     "tableResultSettingsMap": {},
     "title": ""
    }
   },
   "outputs": [
    {
     "output_type": "stream",
     "name": "stdout",
     "output_type": "stream",
     "text": [
      "/mnt/dlsaabcbank/silver has been unmounted.\nUnmount existing mount at /mnt/dlsaabcbank/silver\nMounted successfully at /mnt/dlsaabcbank/silver\n"
     ]
    }
   ],
   "source": [
    "if any(mount.mountPoint == mount_point_processed for mount in dbutils.fs.mounts()):\n",
    "    dbutils.fs.unmount(mount_point_processed)\n",
    "    print(f\"Unmount existing mount at {mount_point_processed}\")\n",
    "\n",
    "try:\n",
    "    dbutils.fs.mount(\n",
    "        source = source_processed,\n",
    "        mount_point = mount_point_processed,\n",
    "        extra_configs = configs\n",
    "    )\n",
    "    print(f\"Mounted successfully at {mount_point_processed}\")\n",
    "except Exception as e:\n",
    "    print(f\"Error mounting: {mount_point_processed}\")"
   ]
  },
  {
   "cell_type": "code",
   "execution_count": 0,
   "metadata": {
    "application/vnd.databricks.v1+cell": {
     "cellMetadata": {
      "byteLimit": 2048000,
      "rowLimit": 10000
     },
     "inputWidgets": {},
     "nuid": "fa7bdf20-43d0-4817-8a34-a00da080b0aa",
     "showTitle": false,
     "tableResultSettingsMap": {},
     "title": ""
    }
   },
   "outputs": [
    {
     "output_type": "execute_result",
     "data": {
      "text/plain": [
       "[FileInfo(path='dbfs:/mnt/dlsaabcbank/bronze/accounts_2024-11-07T08:21:28.1125871Z', name='accounts_2024-11-07T08:21:28.1125871Z', size=1354, modificationTime=1730967703000),\n",
       " FileInfo(path='dbfs:/mnt/dlsaabcbank/bronze/accounts_2024-11-07T08:24:49.8708807Z', name='accounts_2024-11-07T08:24:49.8708807Z', size=1352, modificationTime=1730967909000),\n",
       " FileInfo(path='dbfs:/mnt/dlsaabcbank/bronze/accounts_2024-11-07T08:27:35.3790980Z', name='accounts_2024-11-07T08:27:35.3790980Z', size=1356, modificationTime=1730968069000),\n",
       " FileInfo(path='dbfs:/mnt/dlsaabcbank/bronze/customers_2024-11-07T08:21:19.7005557Z', name='customers_2024-11-07T08:21:19.7005557Z', size=2925, modificationTime=1730967694000),\n",
       " FileInfo(path='dbfs:/mnt/dlsaabcbank/bronze/customers_2024-11-07T08:24:41.7249519Z', name='customers_2024-11-07T08:24:41.7249519Z', size=2828, modificationTime=1730967896000),\n",
       " FileInfo(path='dbfs:/mnt/dlsaabcbank/bronze/customers_2024-11-07T08:27:30.5506264Z', name='customers_2024-11-07T08:27:30.5506264Z', size=2842, modificationTime=1730968063000),\n",
       " FileInfo(path='dbfs:/mnt/dlsaabcbank/bronze/loan_payments_2024-11-07T08:21:38.8402171Z', name='loan_payments_2024-11-07T08:21:38.8402171Z', size=1450, modificationTime=1730967722000),\n",
       " FileInfo(path='dbfs:/mnt/dlsaabcbank/bronze/loan_payments_2024-11-07T08:24:37.7043642Z', name='loan_payments_2024-11-07T08:24:37.7043642Z', size=1474, modificationTime=1730967894000),\n",
       " FileInfo(path='dbfs:/mnt/dlsaabcbank/bronze/loan_payments_2024-11-07T08:27:46.4788479Z', name='loan_payments_2024-11-07T08:27:46.4788479Z', size=1492, modificationTime=1730968078000),\n",
       " FileInfo(path='dbfs:/mnt/dlsaabcbank/bronze/loans_2024-11-07T08:21:24.7693086Z', name='loans_2024-11-07T08:21:24.7693086Z', size=1506, modificationTime=1730967700000),\n",
       " FileInfo(path='dbfs:/mnt/dlsaabcbank/bronze/loans_2024-11-07T08:24:46.0917246Z', name='loans_2024-11-07T08:24:46.0917246Z', size=1535, modificationTime=1730967902000),\n",
       " FileInfo(path='dbfs:/mnt/dlsaabcbank/bronze/loans_2024-11-07T08:27:41.8573874Z', name='loans_2024-11-07T08:27:41.8573874Z', size=1530, modificationTime=1730968076000),\n",
       " FileInfo(path='dbfs:/mnt/dlsaabcbank/bronze/transactions_2024-11-07T08:21:33.4153589Z', name='transactions_2024-11-07T08:21:33.4153589Z', size=1658, modificationTime=1730967707000),\n",
       " FileInfo(path='dbfs:/mnt/dlsaabcbank/bronze/transactions_2024-11-07T08:24:33.4773692Z', name='transactions_2024-11-07T08:24:33.4773692Z', size=1680, modificationTime=1730967890000),\n",
       " FileInfo(path='dbfs:/mnt/dlsaabcbank/bronze/transactions_2024-11-07T08:27:25.3399176Z', name='transactions_2024-11-07T08:27:25.3399176Z', size=1680, modificationTime=1730968061000)]"
      ]
     },
     "execution_count": 158,
     "metadata": {},
     "output_type": "execute_result"
    }
   ],
   "source": [
    "dbutils.fs.ls(f\"{mount_point_raw}\")"
   ]
  },
  {
   "cell_type": "code",
   "execution_count": 0,
   "metadata": {
    "application/vnd.databricks.v1+cell": {
     "cellMetadata": {
      "byteLimit": 2048000,
      "rowLimit": 10000
     },
     "inputWidgets": {},
     "nuid": "b3af0537-f9ed-4ac0-bff6-1ac480417cb2",
     "showTitle": false,
     "tableResultSettingsMap": {},
     "title": ""
    }
   },
   "outputs": [],
   "source": [
    "customer_files = [file.path for file in dbutils.fs.ls(mount_point_raw) if \"customers_\" in file.name]\n",
    "account_files = [file.path for file in dbutils.fs.ls(mount_point_raw) if \"accounts_\" in file.name]\n",
    "transaction_files = [file.path for file in dbutils.fs.ls(mount_point_raw) if \"transactions_\" in file.name]\n",
    "loan_files = [file.path for file in dbutils.fs.ls(mount_point_raw) if \"loans_\" in file.name]\n",
    "loan_payment_files = [file.path for file in dbutils.fs.ls(mount_point_raw) if \"loan_payments_\" in file.name]"
   ]
  },
  {
   "cell_type": "code",
   "execution_count": 0,
   "metadata": {
    "application/vnd.databricks.v1+cell": {
     "cellMetadata": {
      "byteLimit": 2048000,
      "rowLimit": 10000
     },
     "inputWidgets": {},
     "nuid": "e3040975-d5ac-480b-9b41-8e40ce0c2c45",
     "showTitle": false,
     "tableResultSettingsMap": {},
     "title": ""
    }
   },
   "outputs": [
    {
     "output_type": "stream",
     "name": "stdout",
     "output_type": "stream",
     "text": [
      "+-----------+-----------+---------+---------------+-------------+-----+------+--------------------+\n|customer_id| first_name|last_name|        address|         city|state|   zip| ingestion_timestamp|\n+-----------+-----------+---------+---------------+-------------+-----+------+--------------------+\n|          1|       John|      Doe|     123 Elm St|      Toronto|   ON|M4B1B3|2024-11-07 08:29:...|\n|         10|        Ava| Anderson|909 Cypress Ave|  Quebec City|   QC|G1A0A1|2024-11-07 08:29:...|\n|         11|  Alexander|   Thomas| 1010 Willow Rd|   St. John's|   NL|A1A0A1|2024-11-07 08:29:...|\n|         12|   Isabella|      Lee| 1111 Poplar St|  Fredericton|   NB|E3B0A1|2024-11-07 08:29:...|\n|         13|     Daniel|   Harris|  1212 Ash Blvd|Charlottetown|   PE|C1A0A1|2024-11-07 08:29:...|\n|         14|     Sophia|    Young|  1313 Beech Dr|  Yellowknife|   NT|X1A0A1|2024-11-07 08:29:...|\n|         15|    Matthew|     King|  1414 Cedar Ln|   Whitehorse|   YT|Y1A0A1|2024-11-07 08:29:...|\n|         16|  Charlotte|    Scott|    1515 Elm St|      Iqaluit|   NU|X0A0A1|2024-11-07 08:29:...|\n|         17|     Joseph|    Green| 1616 Maple Ave|       Regina|   SK|S4P0A1|2024-11-07 08:29:...|\n|         18|     Amelia|    Adams|    1717 Oak Dr|    Saskatoon|   SK|S7K0A1|2024-11-07 08:29:...|\n|         19|Christopher|    Baker|   1818 Pine Rd|  Thunder Bay|   ON|P7A0A1|2024-11-07 08:29:...|\n|          2|       Jane|    Smith|  456 Maple Ave|       Ottawa|   ON|K1A0B1|2024-11-07 08:29:...|\n|         20|        Mia|   Nelson|1919 Birch Blvd|       London|   ON|N6A0A1|2024-11-07 08:29:...|\n|         21|     Andrew| Mitchell| 2020 Spruce Ln|     Hamilton|   ON|L8P0A1|2024-11-07 08:29:...|\n|         22|     Harper|  Roberts|    2121 Fir St|    Kitchener|   ON|N2G0A1|2024-11-07 08:29:...|\n+-----------+-----------+---------+---------------+-------------+-----+------+--------------------+\nonly showing top 15 rows\n\nTotal customer records: 87\n"
     ]
    }
   ],
   "source": [
    "from pyspark.sql.functions import current_timestamp, when, col\n",
    "\n",
    "df_customers = spark.read.parquet(*customer_files, header=True, inferSchema=True) \\\n",
    "    .withColumn(\"ingestion_timestamp\", current_timestamp()) \\\n",
    "    .dropna(subset=[\"customer_id\", \"first_name\"]) \\\n",
    "    .dropDuplicates([\"customer_id\"]) \\\n",
    "    .orderBy(\"customer_id\")\n",
    "df_customers.show(15)\n",
    "\n",
    "total_customer_records = df_customers.count()\n",
    "print(f\"Total customer records: {total_customer_records}\")"
   ]
  },
  {
   "cell_type": "code",
   "execution_count": 0,
   "metadata": {
    "application/vnd.databricks.v1+cell": {
     "cellMetadata": {
      "byteLimit": 2048000,
      "rowLimit": 10000
     },
     "inputWidgets": {},
     "nuid": "961cf3bd-9638-41d4-be5e-fce4c93ba46f",
     "showTitle": false,
     "tableResultSettingsMap": {},
     "title": ""
    }
   },
   "outputs": [
    {
     "output_type": "execute_result",
     "data": {
      "text/plain": [
       "['customer_id',\n",
       " 'first_name',\n",
       " 'last_name',\n",
       " 'address',\n",
       " 'city',\n",
       " 'state',\n",
       " 'zip',\n",
       " 'ingestion_timestamp']"
      ]
     },
     "execution_count": 161,
     "metadata": {},
     "output_type": "execute_result"
    }
   ],
   "source": [
    "df_customers.columns"
   ]
  },
  {
   "cell_type": "code",
   "execution_count": 0,
   "metadata": {
    "application/vnd.databricks.v1+cell": {
     "cellMetadata": {
      "byteLimit": 2048000,
      "rowLimit": 10000
     },
     "inputWidgets": {},
     "nuid": "6a52d74e-7934-4928-9697-3eee245cdba7",
     "showTitle": false,
     "tableResultSettingsMap": {},
     "title": ""
    }
   },
   "outputs": [
    {
     "output_type": "stream",
     "name": "stdout",
     "output_type": "stream",
     "text": [
      "root\n |-- customer_id: string (nullable = true)\n |-- first_name: string (nullable = true)\n |-- last_name: string (nullable = true)\n |-- address: string (nullable = true)\n |-- city: string (nullable = true)\n |-- state: string (nullable = true)\n |-- zip: string (nullable = true)\n |-- ingestion_timestamp: timestamp (nullable = false)\n\n"
     ]
    }
   ],
   "source": [
    "df_customers.printSchema()"
   ]
  },
  {
   "cell_type": "code",
   "execution_count": 0,
   "metadata": {
    "application/vnd.databricks.v1+cell": {
     "cellMetadata": {
      "byteLimit": 2048000,
      "rowLimit": 10000
     },
     "inputWidgets": {},
     "nuid": "21499b8a-53f3-4712-a454-90331b9740b8",
     "showTitle": false,
     "tableResultSettingsMap": {},
     "title": ""
    }
   },
   "outputs": [
    {
     "output_type": "stream",
     "name": "stdout",
     "output_type": "stream",
     "text": [
      "+----------+-----------+------------+--------+--------------------+\n|account_id|customer_id|account_type| balance| ingestion_timestamp|\n+----------+-----------+------------+--------+--------------------+\n|         1|         45|     Savings| 1000.50|2024-11-07 08:29:...|\n|       100|         50|    Checking|10100.00|2024-11-07 08:29:...|\n|        11|          3|     Savings| 1100.75|2024-11-07 08:29:...|\n|        12|         81|    Checking| 2700.00|2024-11-07 08:29:...|\n|        13|         29|     Savings| 1300.25|2024-11-07 08:29:...|\n|        14|         64|    Checking| 3200.50|2024-11-07 08:29:...|\n|        15|         47|     Savings|  700.75|2024-11-07 08:29:...|\n|        16|         18|    Checking| 1400.00|2024-11-07 08:29:...|\n|        18|          5|    Checking| 1600.50|2024-11-07 08:29:...|\n|        19|         76|     Savings|  400.75|2024-11-07 08:29:...|\n|         2|         12|    Checking| 2500.75|2024-11-07 08:29:...|\n|        20|         21|    Checking| 2000.00|2024-11-07 08:29:...|\n|        21|         53|     Savings|  300.25|2024-11-07 08:29:...|\n|        22|         37|    Checking| 2400.50|2024-11-07 08:29:...|\n|        24|         11|    Checking| 2600.00|2024-11-07 08:29:...|\n+----------+-----------+------------+--------+--------------------+\nonly showing top 15 rows\n\nTotal account records: 88\n"
     ]
    }
   ],
   "source": [
    "df_accounts = spark.read.parquet(*account_files, header=True, inferSchema=True) \\\n",
    "    .withColumn(\"ingestion_timestamp\", current_timestamp()) \\\n",
    "    .withColumn(\"balance\", when(col(\"balance\").isNull(), 0.00).otherwise(col(\"balance\"))) \\\n",
    "    .dropna(subset=[\"account_id\", \"customer_id\", \"account_type\"]) \\\n",
    "    .dropDuplicates([\"account_id\"]) \\\n",
    "    .join(df_customers, on=\"customer_id\", how=\"inner\") \\\n",
    "    .drop(df_customers.ingestion_timestamp) \\\n",
    "    .select(\"account_id\", \"customer_id\", \"account_type\", \"balance\", \"ingestion_timestamp\") \\\n",
    "    .orderBy(\"account_id\")\n",
    "df_accounts.show(15)\n",
    "\n",
    "print(f\"Total account records: {df_accounts.count()}\")"
   ]
  },
  {
   "cell_type": "code",
   "execution_count": 0,
   "metadata": {
    "application/vnd.databricks.v1+cell": {
     "cellMetadata": {
      "byteLimit": 2048000,
      "rowLimit": 10000
     },
     "inputWidgets": {},
     "nuid": "37203630-2d97-40f4-ac9c-78084144e6bb",
     "showTitle": false,
     "tableResultSettingsMap": {},
     "title": ""
    }
   },
   "outputs": [
    {
     "output_type": "execute_result",
     "data": {
      "text/plain": [
       "['account_id', 'customer_id', 'account_type', 'balance', 'ingestion_timestamp']"
      ]
     },
     "execution_count": 164,
     "metadata": {},
     "output_type": "execute_result"
    }
   ],
   "source": [
    "df_accounts.columns"
   ]
  },
  {
   "cell_type": "code",
   "execution_count": 0,
   "metadata": {
    "application/vnd.databricks.v1+cell": {
     "cellMetadata": {
      "byteLimit": 2048000,
      "rowLimit": 10000
     },
     "inputWidgets": {},
     "nuid": "1e949135-e36a-478d-ac23-e743a3760bcd",
     "showTitle": false,
     "tableResultSettingsMap": {},
     "title": ""
    }
   },
   "outputs": [
    {
     "output_type": "stream",
     "name": "stdout",
     "output_type": "stream",
     "text": [
      "root\n |-- account_id: string (nullable = true)\n |-- customer_id: string (nullable = true)\n |-- account_type: string (nullable = true)\n |-- balance: string (nullable = true)\n |-- ingestion_timestamp: timestamp (nullable = false)\n\n"
     ]
    }
   ],
   "source": [
    "df_accounts.printSchema()"
   ]
  },
  {
   "cell_type": "code",
   "execution_count": 0,
   "metadata": {
    "application/vnd.databricks.v1+cell": {
     "cellMetadata": {
      "byteLimit": 2048000,
      "rowLimit": 10000
     },
     "inputWidgets": {},
     "nuid": "aab9f11c-358d-4e7a-bbe3-21fb24ecfdc1",
     "showTitle": false,
     "tableResultSettingsMap": {},
     "title": ""
    }
   },
   "outputs": [
    {
     "output_type": "stream",
     "name": "stdout",
     "output_type": "stream",
     "text": [
      "+--------------+----------+----------------+------------------+----------------+--------------------+\n|transaction_id|account_id|transaction_date|transaction_amount|transaction_type| ingestion_timestamp|\n+--------------+----------+----------------+------------------+----------------+--------------------+\n|             1|        45|      2024-01-01|            100.50|         Deposit|2024-11-07 08:29:...|\n|            10|        92|      2024-01-10|            375.25|      Withdrawal|2024-11-07 08:29:...|\n|           100|        50|      2024-04-09|            375.25|      Withdrawal|2024-11-07 08:29:...|\n|            11|         3|      2024-01-11|            100.50|         Deposit|2024-11-07 08:29:...|\n|            12|        81|      2024-01-12|            200.75|      Withdrawal|2024-11-07 08:29:...|\n|            13|        29|      2024-01-13|            150.00|         Deposit|2024-11-07 08:29:...|\n|            14|        64|      2024-01-14|            300.25|      Withdrawal|2024-11-07 08:29:...|\n|            16|        18|      2024-01-16|            175.00|      Withdrawal|2024-11-07 08:29:...|\n|            17|        99|      2024-01-17|            225.50|         Deposit|2024-11-07 08:29:...|\n|            18|         5|      2024-01-18|            275.75|      Withdrawal|2024-11-07 08:29:...|\n|            19|        76|      2024-01-19|            325.00|         Deposit|2024-11-07 08:29:...|\n|             2|        12|      2024-01-02|            200.75|      Withdrawal|2024-11-07 08:29:...|\n|            20|        21|      2024-01-20|            375.25|      Withdrawal|2024-11-07 08:29:...|\n|            21|        53|      2024-01-21|            100.50|         Deposit|2024-11-07 08:29:...|\n|            23|        88|      2024-01-23|            150.00|         Deposit|2024-11-07 08:29:...|\n+--------------+----------+----------------+------------------+----------------+--------------------+\nonly showing top 15 rows\n\nTotal transactional recors: 88\n"
     ]
    }
   ],
   "source": [
    "df_transactions = spark.read.parquet(*transaction_files, header=True, inferSchema=True) \\\n",
    "    .withColumn(\"ingestion_timestamp\", current_timestamp()) \\\n",
    "    .withColumn(\"transaction_amount\", when(col(\"transaction_amount\").isNull(), 0.00).otherwise(col(\"transaction_amount\"))) \\\n",
    "    .dropna(subset=[\"transaction_id\", \"account_id\"]) \\\n",
    "    .dropDuplicates([\"transaction_id\"]) \\\n",
    "    .join(df_accounts, on=\"account_id\", how=\"inner\") \\\n",
    "    .drop(df_accounts.ingestion_timestamp) \\\n",
    "    .select(\"transaction_id\", \"account_id\", \"transaction_date\", \"transaction_amount\", \"transaction_type\", \"ingestion_timestamp\") \\\n",
    "    .orderBy(\"transaction_id\")\n",
    "df_transactions.show(15)\n",
    "\n",
    "print(f\"Total transactional recors: {df_transactions.count()}\")"
   ]
  },
  {
   "cell_type": "code",
   "execution_count": 0,
   "metadata": {
    "application/vnd.databricks.v1+cell": {
     "cellMetadata": {
      "byteLimit": 2048000,
      "rowLimit": 10000
     },
     "inputWidgets": {},
     "nuid": "18a28d29-c4a2-4c20-a50b-fe0c04a2a056",
     "showTitle": false,
     "tableResultSettingsMap": {},
     "title": ""
    }
   },
   "outputs": [
    {
     "output_type": "execute_result",
     "data": {
      "text/plain": [
       "['transaction_id',\n",
       " 'account_id',\n",
       " 'transaction_date',\n",
       " 'transaction_amount',\n",
       " 'transaction_type',\n",
       " 'ingestion_timestamp']"
      ]
     },
     "execution_count": 167,
     "metadata": {},
     "output_type": "execute_result"
    }
   ],
   "source": [
    "df_transactions.columns"
   ]
  },
  {
   "cell_type": "code",
   "execution_count": 0,
   "metadata": {
    "application/vnd.databricks.v1+cell": {
     "cellMetadata": {
      "byteLimit": 2048000,
      "rowLimit": 10000
     },
     "inputWidgets": {},
     "nuid": "ceacf335-85f0-4920-b6bc-9bdbff837018",
     "showTitle": false,
     "tableResultSettingsMap": {},
     "title": ""
    }
   },
   "outputs": [
    {
     "output_type": "stream",
     "name": "stdout",
     "output_type": "stream",
     "text": [
      "root\n |-- transaction_id: string (nullable = true)\n |-- account_id: string (nullable = true)\n |-- transaction_date: string (nullable = true)\n |-- transaction_amount: string (nullable = true)\n |-- transaction_type: string (nullable = true)\n |-- ingestion_timestamp: timestamp (nullable = false)\n\n"
     ]
    }
   ],
   "source": [
    "df_transactions.printSchema()"
   ]
  },
  {
   "cell_type": "code",
   "execution_count": 0,
   "metadata": {
    "application/vnd.databricks.v1+cell": {
     "cellMetadata": {
      "byteLimit": 2048000,
      "rowLimit": 10000
     },
     "inputWidgets": {},
     "nuid": "f2a133d2-a86e-44aa-9850-c6b5951d87a2",
     "showTitle": false,
     "tableResultSettingsMap": {},
     "title": ""
    }
   },
   "outputs": [
    {
     "output_type": "stream",
     "name": "stdout",
     "output_type": "stream",
     "text": [
      "+-------+-----------+-----------+-------------+---------+--------------------+\n|loan_id|customer_id|loan_amount|interest_rate|loan_term| ingestion_timestamp|\n+-------+-----------+-----------+-------------+---------+--------------------+\n|      1|         45|   10000.50|          5.5|       36|2024-11-07 08:29:...|\n|    100|         50|   37500.00|          3.5|       24|2024-11-07 08:29:...|\n|     11|          3|   10000.75|          6.0|       60|2024-11-07 08:29:...|\n|     12|         81|   20000.00|          3.5|       24|2024-11-07 08:29:...|\n|     13|         29|   15000.25|          5.0|       36|2024-11-07 08:29:...|\n|     14|         64|   30000.50|          4.0|       48|2024-11-07 08:29:...|\n|     15|         47|   25000.75|          6.5|       60|2024-11-07 08:29:...|\n|     16|         18|   17500.00|          3.0|       24|2024-11-07 08:29:...|\n|     18|          5|   27500.50|          4.5|       48|2024-11-07 08:29:...|\n|     19|         76|   32500.75|          6.0|       60|2024-11-07 08:29:...|\n|      2|         12|   20000.75|          4.5|       48|2024-11-07 08:29:...|\n|     20|         21|   37500.00|          3.5|       24|2024-11-07 08:29:...|\n|     21|         53|   10000.25|          5.0|       36|2024-11-07 08:29:...|\n|     22|         37|   20000.50|          4.0|       48|2024-11-07 08:29:...|\n|     24|         11|   30000.00|          3.0|       24|2024-11-07 08:29:...|\n+-------+-----------+-----------+-------------+---------+--------------------+\nonly showing top 15 rows\n\nTotal loan records: 88\n"
     ]
    }
   ],
   "source": [
    "df_loans = spark.read.parquet(*loan_files, header=True, inferSchema=True) \\\n",
    "    .withColumn(\"ingestion_timestamp\", current_timestamp()) \\\n",
    "    .withColumn(\"loan_amount\", when(col(\"loan_amount\").isNull(), 0.00).otherwise(col(\"loan_amount\"))) \\\n",
    "    .withColumn(\"interest_rate\", when(col(\"interest_rate\").isNull(), 0.0).otherwise(col(\"interest_rate\"))) \\\n",
    "    .withColumn(\"loan_term\", when(col(\"loan_term\").isNull(), 1).otherwise(col(\"loan_term\"))) \\\n",
    "    .dropna(subset=[\"loan_id\", \"customer_id\"]) \\\n",
    "    .dropDuplicates([\"loan_id\"]) \\\n",
    "    .join(df_customers, on=\"customer_id\", how=\"inner\") \\\n",
    "    .drop(df_customers.ingestion_timestamp) \\\n",
    "    .select(\"loan_id\", \"customer_id\", \"loan_amount\", \"interest_rate\", \"loan_term\", \"ingestion_timestamp\") \\\n",
    "    .orderBy(\"loan_id\")\n",
    "df_loans.show(15)\n",
    "\n",
    "print(f\"Total loan records: {df_loans.count()}\")"
   ]
  },
  {
   "cell_type": "code",
   "execution_count": 0,
   "metadata": {
    "application/vnd.databricks.v1+cell": {
     "cellMetadata": {
      "byteLimit": 2048000,
      "rowLimit": 10000
     },
     "inputWidgets": {},
     "nuid": "06e8a023-2cc1-4c5f-bab0-41d0a0c3832c",
     "showTitle": false,
     "tableResultSettingsMap": {},
     "title": ""
    }
   },
   "outputs": [
    {
     "output_type": "execute_result",
     "data": {
      "text/plain": [
       "['loan_id',\n",
       " 'customer_id',\n",
       " 'loan_amount',\n",
       " 'interest_rate',\n",
       " 'loan_term',\n",
       " 'ingestion_timestamp']"
      ]
     },
     "execution_count": 170,
     "metadata": {},
     "output_type": "execute_result"
    }
   ],
   "source": [
    "df_loans.columns"
   ]
  },
  {
   "cell_type": "code",
   "execution_count": 0,
   "metadata": {
    "application/vnd.databricks.v1+cell": {
     "cellMetadata": {
      "byteLimit": 2048000,
      "rowLimit": 10000
     },
     "inputWidgets": {},
     "nuid": "9d95a5e4-aeec-4b27-8b61-3401ed64b1bc",
     "showTitle": false,
     "tableResultSettingsMap": {},
     "title": ""
    }
   },
   "outputs": [
    {
     "output_type": "stream",
     "name": "stdout",
     "output_type": "stream",
     "text": [
      "root\n |-- loan_id: string (nullable = true)\n |-- customer_id: string (nullable = true)\n |-- loan_amount: string (nullable = true)\n |-- interest_rate: string (nullable = true)\n |-- loan_term: string (nullable = true)\n |-- ingestion_timestamp: timestamp (nullable = false)\n\n"
     ]
    }
   ],
   "source": [
    "df_loans.printSchema()"
   ]
  },
  {
   "cell_type": "code",
   "execution_count": 0,
   "metadata": {
    "application/vnd.databricks.v1+cell": {
     "cellMetadata": {
      "byteLimit": 2048000,
      "rowLimit": 10000
     },
     "inputWidgets": {},
     "nuid": "73560617-78e4-4da1-adfc-f614b81cbfb5",
     "showTitle": false,
     "tableResultSettingsMap": {},
     "title": ""
    }
   },
   "outputs": [
    {
     "output_type": "stream",
     "name": "stdout",
     "output_type": "stream",
     "text": [
      "+----------+-------+------------+--------------+--------------------+\n|payment_id|loan_id|payment_date|payment_amount| ingestion_timestamp|\n+----------+-------+------------+--------------+--------------------+\n|         1|     45|  2024-01-01|        100.00|2024-11-07 08:29:...|\n|        10|     11|  2024-01-10|        550.00|2024-11-07 08:29:...|\n|       100|     33|  2024-04-10|       1000.00|2024-11-07 08:29:...|\n|        11|     22|  2024-01-11|        600.00|2024-11-07 08:29:...|\n|        12|     33|  2024-01-12|        650.00|2024-11-07 08:29:...|\n|        13|     44|  2024-01-13|        700.00|2024-11-07 08:29:...|\n|        14|     55|  2024-01-14|        750.00|2024-11-07 08:29:...|\n|        15|     66|  2024-01-15|        800.00|2024-11-07 08:29:...|\n|        17|     88|  2024-01-17|        900.00|2024-11-07 08:29:...|\n|        18|     99|  2024-01-18|        950.00|2024-11-07 08:29:...|\n|        20|     21|  2024-01-20|       1050.00|2024-11-07 08:29:...|\n|        21|     32|  2024-01-21|       1100.00|2024-11-07 08:29:...|\n|        22|     43|  2024-01-22|       1150.00|2024-11-07 08:29:...|\n|        23|     54|  2024-01-23|       1200.00|2024-11-07 08:29:...|\n|        24|     65|  2024-01-24|       1250.00|2024-11-07 08:29:...|\n+----------+-------+------------+--------------+--------------------+\nonly showing top 15 rows\n\nTotal loan payment records: 88\n"
     ]
    }
   ],
   "source": [
    "df_loan_payments = spark.read.parquet(*loan_payment_files, header=True, inferSchema=True) \\\n",
    "    .withColumn(\"ingestion_timestamp\", current_timestamp()) \\\n",
    "    .withColumn(\"payment_amount\", when(col(\"payment_amount\").isNull(), 0.00).otherwise(col(\"payment_amount\"))) \\\n",
    "    .dropna(subset=[\"payment_id\", \"loan_id\"]) \\\n",
    "    .dropDuplicates([\"payment_id\"]) \\\n",
    "    .join(df_loans, on=\"loan_id\", how=\"inner\") \\\n",
    "    .drop(df_loans.ingestion_timestamp) \\\n",
    "    .select(\"payment_id\", \"loan_id\", \"payment_date\", \"payment_amount\", \"ingestion_timestamp\") \\\n",
    "    .orderBy(\"payment_id\")\n",
    "df_loan_payments.show(15)\n",
    "\n",
    "print(f\"Total loan payment records: {df_loan_payments.count()}\")"
   ]
  },
  {
   "cell_type": "code",
   "execution_count": 0,
   "metadata": {
    "application/vnd.databricks.v1+cell": {
     "cellMetadata": {
      "byteLimit": 2048000,
      "rowLimit": 10000
     },
     "inputWidgets": {},
     "nuid": "6a529614-ea86-428d-b5a0-9ef583bb67e3",
     "showTitle": false,
     "tableResultSettingsMap": {},
     "title": ""
    }
   },
   "outputs": [
    {
     "output_type": "execute_result",
     "data": {
      "text/plain": [
       "['payment_id',\n",
       " 'loan_id',\n",
       " 'payment_date',\n",
       " 'payment_amount',\n",
       " 'ingestion_timestamp']"
      ]
     },
     "execution_count": 173,
     "metadata": {},
     "output_type": "execute_result"
    }
   ],
   "source": [
    "df_loan_payments.columns"
   ]
  },
  {
   "cell_type": "code",
   "execution_count": 0,
   "metadata": {
    "application/vnd.databricks.v1+cell": {
     "cellMetadata": {
      "byteLimit": 2048000,
      "rowLimit": 10000
     },
     "inputWidgets": {},
     "nuid": "a59a53de-b60d-47ce-80c1-1e0c881f8dce",
     "showTitle": false,
     "tableResultSettingsMap": {},
     "title": ""
    }
   },
   "outputs": [
    {
     "output_type": "stream",
     "name": "stdout",
     "output_type": "stream",
     "text": [
      "root\n |-- payment_id: string (nullable = true)\n |-- loan_id: string (nullable = true)\n |-- payment_date: string (nullable = true)\n |-- payment_amount: string (nullable = true)\n |-- ingestion_timestamp: timestamp (nullable = false)\n\n"
     ]
    }
   ],
   "source": [
    "df_loan_payments.printSchema()"
   ]
  },
  {
   "cell_type": "code",
   "execution_count": 0,
   "metadata": {
    "application/vnd.databricks.v1+cell": {
     "cellMetadata": {
      "byteLimit": 2048000,
      "rowLimit": 10000
     },
     "inputWidgets": {},
     "nuid": "46575a0a-de94-45f6-8db6-7059baf20297",
     "showTitle": false,
     "tableResultSettingsMap": {},
     "title": ""
    }
   },
   "outputs": [],
   "source": [
    "delta_customers_location = \"delta/customers\"\n",
    "delta_accounts_location = \"delta/accounts\"\n",
    "delta_transactions_location = \"delta/transactions\"\n",
    "delta_loans_location = \"delta/loans\"\n",
    "delta_loan_payments_location = \"delta/loan_payments\"\n",
    "\n",
    "delta_customers_table_path = f\"{mount_point_processed}/{delta_customers_location}\"\n",
    "delta_accounts_table_path = f\"{mount_point_processed}/{delta_accounts_location}\"\n",
    "delta_transactions_table_path = f\"{mount_point_processed}/{delta_transactions_location}\"\n",
    "delta_loans_table_path = f\"{mount_point_processed}/{delta_loans_location}\"\n",
    "delta_loan_payments_table_path = f\"{mount_point_processed}/{delta_loan_payments_location}\""
   ]
  },
  {
   "cell_type": "code",
   "execution_count": 0,
   "metadata": {
    "application/vnd.databricks.v1+cell": {
     "cellMetadata": {
      "byteLimit": 2048000,
      "rowLimit": 10000
     },
     "inputWidgets": {},
     "nuid": "e7c25113-7485-4fd2-8c57-e01a107292e4",
     "showTitle": false,
     "tableResultSettingsMap": {},
     "title": ""
    }
   },
   "outputs": [
    {
     "output_type": "stream",
     "name": "stdout",
     "output_type": "stream",
     "text": [
      "+-----------+-----------+---------+---------------+-------------+-----+------+--------------------+\n|customer_id| first_name|last_name|        address|         city|state|   zip| ingestion_timestamp|\n+-----------+-----------+---------+---------------+-------------+-----+------+--------------------+\n|          1|       John|      Doe|     123 Elm St|      Toronto|   ON|M4B1B3|2024-11-07 08:29:...|\n|         10|        Ava| Anderson|909 Cypress Ave|  Quebec City|   QC|G1A0A1|2024-11-07 08:29:...|\n|         11|  Alexander|   Thomas| 1010 Willow Rd|   St. John's|   NL|A1A0A1|2024-11-07 08:29:...|\n|         12|   Isabella|      Lee| 1111 Poplar St|  Fredericton|   NB|E3B0A1|2024-11-07 08:29:...|\n|         13|     Daniel|   Harris|  1212 Ash Blvd|Charlottetown|   PE|C1A0A1|2024-11-07 08:29:...|\n|         14|     Sophia|    Young|  1313 Beech Dr|  Yellowknife|   NT|X1A0A1|2024-11-07 08:29:...|\n|         15|    Matthew|     King|  1414 Cedar Ln|   Whitehorse|   YT|Y1A0A1|2024-11-07 08:29:...|\n|         16|  Charlotte|    Scott|    1515 Elm St|      Iqaluit|   NU|X0A0A1|2024-11-07 08:29:...|\n|         17|     Joseph|    Green| 1616 Maple Ave|       Regina|   SK|S4P0A1|2024-11-07 08:29:...|\n|         18|     Amelia|    Adams|    1717 Oak Dr|    Saskatoon|   SK|S7K0A1|2024-11-07 08:29:...|\n|         19|Christopher|    Baker|   1818 Pine Rd|  Thunder Bay|   ON|P7A0A1|2024-11-07 08:29:...|\n|          2|       Jane|    Smith|  456 Maple Ave|       Ottawa|   ON|K1A0B1|2024-11-07 08:29:...|\n|         20|        Mia|   Nelson|1919 Birch Blvd|       London|   ON|N6A0A1|2024-11-07 08:29:...|\n|         21|     Andrew| Mitchell| 2020 Spruce Ln|     Hamilton|   ON|L8P0A1|2024-11-07 08:29:...|\n|         22|     Harper|  Roberts|    2121 Fir St|    Kitchener|   ON|N2G0A1|2024-11-07 08:29:...|\n+-----------+-----------+---------+---------------+-------------+-----+------+--------------------+\nonly showing top 15 rows\n\n"
     ]
    }
   ],
   "source": [
    "from delta.tables import DeltaTable\n",
    "\n",
    "if DeltaTable.isDeltaTable(spark, delta_customers_table_path):\n",
    "    existing_data = DeltaTable.forPath(spark, delta_customers_table_path)\n",
    "    \n",
    "    (existing_data.alias(\"existing\") \\\n",
    "        .merge(df_customers.alias(\"new\"), \"existing.customer_id = new.customer_id\") \\\n",
    "        .whenMatchedUpdateAll() \\\n",
    "        .whenNotMatchedInsertAll() \\\n",
    "        .execute())\n",
    "else:\n",
    "    df_customers.write.format(\"delta\").mode(\"overwrite\").save(delta_customers_table_path)\n",
    "\n",
    "spark.read.format(\"delta\").load(delta_customers_table_path).show(15)"
   ]
  },
  {
   "cell_type": "code",
   "execution_count": 0,
   "metadata": {
    "application/vnd.databricks.v1+cell": {
     "cellMetadata": {
      "byteLimit": 2048000,
      "rowLimit": 10000
     },
     "inputWidgets": {},
     "nuid": "9422ba7f-b86d-4690-96b1-61cc22e1c81a",
     "showTitle": false,
     "tableResultSettingsMap": {},
     "title": ""
    }
   },
   "outputs": [
    {
     "output_type": "stream",
     "name": "stdout",
     "output_type": "stream",
     "text": [
      "+----------+-----------+------------+-------+--------------------+\n|account_id|customer_id|account_type|balance| ingestion_timestamp|\n+----------+-----------+------------+-------+--------------------+\n|         1|         45|     Savings|1000.50|2024-11-07 08:29:...|\n|        11|          3|     Savings|1100.75|2024-11-07 08:29:...|\n|        13|         29|     Savings|1300.25|2024-11-07 08:29:...|\n|        15|         47|     Savings| 700.75|2024-11-07 08:29:...|\n|        16|         18|    Checking|1400.00|2024-11-07 08:29:...|\n|        18|          5|    Checking|1600.50|2024-11-07 08:29:...|\n|         2|         12|    Checking|2500.75|2024-11-07 08:29:...|\n|        20|         21|    Checking|2000.00|2024-11-07 08:29:...|\n|        21|         53|     Savings| 300.25|2024-11-07 08:29:...|\n|        22|         37|    Checking|2400.50|2024-11-07 08:29:...|\n|        24|         11|    Checking|2600.00|2024-11-07 08:29:...|\n|        26|         25|    Checking|2800.50|2024-11-07 08:29:...|\n|        28|          7|    Checking|2900.00|2024-11-07 08:29:...|\n|        29|         58|     Savings|  75.25|2024-11-07 08:29:...|\n|        30|         32|    Checking|3100.50|2024-11-07 08:29:...|\n+----------+-----------+------------+-------+--------------------+\nonly showing top 15 rows\n\n"
     ]
    }
   ],
   "source": [
    "if DeltaTable.isDeltaTable(spark, delta_accounts_table_path):\n",
    "    existing_data = DeltaTable.forPath(spark, delta_accounts_table_path)\n",
    "    \n",
    "    (existing_data.alias(\"existing\") \\\n",
    "        .merge(df_accounts.alias(\"new\"), \"existing.account_id = new.account_id\") \\\n",
    "        .whenMatchedUpdateAll() \\\n",
    "        .whenNotMatchedInsertAll() \\\n",
    "        .execute())\n",
    "else:\n",
    "    df_accounts.write.format(\"delta\").mode(\"overwrite\").save(delta_accounts_table_path)\n",
    "\n",
    "spark.read.format(\"delta\").load(delta_accounts_table_path).show(15)"
   ]
  },
  {
   "cell_type": "code",
   "execution_count": 0,
   "metadata": {
    "application/vnd.databricks.v1+cell": {
     "cellMetadata": {
      "byteLimit": 2048000,
      "rowLimit": 10000
     },
     "inputWidgets": {},
     "nuid": "aa94441c-30d6-4915-88b9-cbede5e7152a",
     "showTitle": false,
     "tableResultSettingsMap": {},
     "title": ""
    }
   },
   "outputs": [
    {
     "output_type": "stream",
     "name": "stdout",
     "output_type": "stream",
     "text": [
      "+--------------+----------+----------------+------------------+----------------+--------------------+\n|transaction_id|account_id|transaction_date|transaction_amount|transaction_type| ingestion_timestamp|\n+--------------+----------+----------------+------------------+----------------+--------------------+\n|            13|        29|      2024-01-13|            150.00|         Deposit|2024-11-07 08:29:...|\n|            14|        64|      2024-01-14|            300.25|      Withdrawal|2024-11-07 08:29:...|\n|            16|        18|      2024-01-16|            175.00|      Withdrawal|2024-11-07 08:29:...|\n|            18|         5|      2024-01-18|            275.75|      Withdrawal|2024-11-07 08:29:...|\n|            20|        21|      2024-01-20|            375.25|      Withdrawal|2024-11-07 08:29:...|\n|            24|        11|      2024-01-24|            300.25|      Withdrawal|2024-11-07 08:29:...|\n|            25|        66|      2024-01-25|            250.00|         Deposit|2024-11-07 08:29:...|\n|            29|        58|      2024-01-29|            325.00|         Deposit|2024-11-07 08:29:...|\n|            30|        32|      2024-01-30|            375.25|      Withdrawal|2024-11-07 08:29:...|\n|            32|         9|      2024-02-01|            200.75|      Withdrawal|2024-11-07 08:29:...|\n|            34|        41|      2024-02-03|            300.25|      Withdrawal|2024-11-07 08:29:...|\n|            35|        62|      2024-02-04|            250.00|         Deposit|2024-11-07 08:29:...|\n|            38|        15|      2024-02-07|            275.75|      Withdrawal|2024-11-07 08:29:...|\n|             4|        34|      2024-01-04|            300.25|      Withdrawal|2024-11-07 08:29:...|\n|            42|        36|      2024-02-11|            200.75|      Withdrawal|2024-11-07 08:29:...|\n+--------------+----------+----------------+------------------+----------------+--------------------+\nonly showing top 15 rows\n\n"
     ]
    }
   ],
   "source": [
    "if DeltaTable.isDeltaTable(spark, delta_transactions_table_path):\n",
    "    existing_data = DeltaTable.forPath(spark, delta_transactions_table_path)\n",
    "    \n",
    "    (existing_data.alias(\"existing\") \\\n",
    "        .merge(df_transactions.alias(\"new\"), \"existing.transaction_id = new.transaction_id\") \\\n",
    "        .whenMatchedUpdateAll() \\\n",
    "        .whenNotMatchedInsertAll() \\\n",
    "        .execute())\n",
    "else:\n",
    "    df_transactions.write.format(\"delta\").mode(\"overwrite\").save(delta_transactions_table_path)\n",
    "\n",
    "spark.read.format(\"delta\").load(delta_transactions_table_path).show(15)"
   ]
  },
  {
   "cell_type": "code",
   "execution_count": 0,
   "metadata": {
    "application/vnd.databricks.v1+cell": {
     "cellMetadata": {
      "byteLimit": 2048000,
      "rowLimit": 10000
     },
     "inputWidgets": {},
     "nuid": "3271ca77-b8ed-419d-929c-f32a535b7666",
     "showTitle": false,
     "tableResultSettingsMap": {},
     "title": ""
    }
   },
   "outputs": [
    {
     "output_type": "stream",
     "name": "stdout",
     "output_type": "stream",
     "text": [
      "+-------+-----------+-----------+-------------+---------+--------------------+\n|loan_id|customer_id|loan_amount|interest_rate|loan_term| ingestion_timestamp|\n+-------+-----------+-----------+-------------+---------+--------------------+\n|      1|         45|   10000.50|          5.5|       36|2024-11-07 08:29:...|\n|     11|          3|   10000.75|          6.0|       60|2024-11-07 08:29:...|\n|     13|         29|   15000.25|          5.0|       36|2024-11-07 08:29:...|\n|     15|         47|   25000.75|          6.5|       60|2024-11-07 08:29:...|\n|     16|         18|   17500.00|          3.0|       24|2024-11-07 08:29:...|\n|     18|          5|   27500.50|          4.5|       48|2024-11-07 08:29:...|\n|      2|         12|   20000.75|          4.5|       48|2024-11-07 08:29:...|\n|     20|         21|   37500.00|          3.5|       24|2024-11-07 08:29:...|\n|     21|         53|   10000.25|          5.0|       36|2024-11-07 08:29:...|\n|     22|         37|   20000.50|          4.0|       48|2024-11-07 08:29:...|\n|     24|         11|   30000.00|          3.0|       24|2024-11-07 08:29:...|\n|     26|         25|   17500.50|          4.5|       48|2024-11-07 08:29:...|\n|     28|          7|   27500.00|          3.5|       24|2024-11-07 08:29:...|\n|     29|         58|   32500.25|          5.0|       36|2024-11-07 08:29:...|\n|     30|         32|   37500.50|          4.0|       48|2024-11-07 08:29:...|\n+-------+-----------+-----------+-------------+---------+--------------------+\nonly showing top 15 rows\n\n"
     ]
    }
   ],
   "source": [
    "if DeltaTable.isDeltaTable(spark, delta_loans_table_path):\n",
    "    existing_data = DeltaTable.forPath(spark, delta_loans_table_path)\n",
    "    \n",
    "    (existing_data.alias(\"existing\") \\\n",
    "        .merge(df_loans.alias(\"new\"), \"existing.loan_id = new.loan_id\") \\\n",
    "        .whenMatchedUpdateAll() \\\n",
    "        .whenNotMatchedInsertAll() \\\n",
    "        .execute())\n",
    "else:\n",
    "    df_loans.write.format(\"delta\").mode(\"overwrite\").save(delta_loans_table_path)\n",
    "\n",
    "spark.read.format(\"delta\").load(delta_loans_table_path).show(15)"
   ]
  },
  {
   "cell_type": "code",
   "execution_count": 0,
   "metadata": {
    "application/vnd.databricks.v1+cell": {
     "cellMetadata": {
      "byteLimit": 2048000,
      "rowLimit": 10000
     },
     "inputWidgets": {},
     "nuid": "caf98fd0-25e1-4de8-a0b1-4d59f44fc25c",
     "showTitle": false,
     "tableResultSettingsMap": {},
     "title": ""
    }
   },
   "outputs": [
    {
     "output_type": "stream",
     "name": "stdout",
     "output_type": "stream",
     "text": [
      "+----------+-------+------------+--------------+--------------------+\n|payment_id|loan_id|payment_date|payment_amount| ingestion_timestamp|\n+----------+-------+------------+--------------+--------------------+\n|        10|     11|  2024-01-10|        550.00|2024-11-07 08:29:...|\n|        11|     22|  2024-01-11|        600.00|2024-11-07 08:29:...|\n|        13|     44|  2024-01-13|        700.00|2024-11-07 08:29:...|\n|        15|     66|  2024-01-15|        800.00|2024-11-07 08:29:...|\n|        20|     21|  2024-01-20|       1050.00|2024-11-07 08:29:...|\n|        21|     32|  2024-01-21|       1100.00|2024-11-07 08:29:...|\n|        23|     54|  2024-01-23|       1200.00|2024-11-07 08:29:...|\n|        28|      9|  2024-01-28|       1450.00|2024-11-07 08:29:...|\n|        29|     20|  2024-01-29|       1500.00|2024-11-07 08:29:...|\n|        31|     42|  2024-01-31|       1600.00|2024-11-07 08:29:...|\n|        33|     64|  2024-02-02|       1700.00|2024-11-07 08:29:...|\n|        39|     30|  2024-02-08|       2000.00|2024-11-07 08:29:...|\n|        40|     41|  2024-02-09|       2050.00|2024-11-07 08:29:...|\n|        41|     52|  2024-02-10|       2100.00|2024-11-07 08:29:...|\n|        47|     18|  2024-02-16|       2400.00|2024-11-07 08:29:...|\n+----------+-------+------------+--------------+--------------------+\nonly showing top 15 rows\n\n"
     ]
    }
   ],
   "source": [
    "if DeltaTable.isDeltaTable(spark, delta_loan_payments_table_path):\n",
    "    existing_data = DeltaTable.forPath(spark, delta_loan_payments_table_path)\n",
    "    \n",
    "    (existing_data.alias(\"existing\") \\\n",
    "        .merge(df_loan_payments.alias(\"new\"), \"existing.payment_id = new.payment_id\") \\\n",
    "        .whenMatchedUpdateAll() \\\n",
    "        .whenNotMatchedInsertAll() \\\n",
    "        .execute())\n",
    "else:\n",
    "    df_loan_payments.write.format(\"delta\").mode(\"overwrite\").save(delta_loan_payments_table_path)\n",
    "\n",
    "spark.read.format(\"delta\").load(delta_loan_payments_table_path).show(15)"
   ]
  },
  {
   "cell_type": "code",
   "execution_count": 0,
   "metadata": {
    "application/vnd.databricks.v1+cell": {
     "cellMetadata": {
      "byteLimit": 2048000,
      "rowLimit": 10000
     },
     "inputWidgets": {},
     "nuid": "5170adab-6775-448f-9830-d766a201385b",
     "showTitle": false,
     "tableResultSettingsMap": {},
     "title": ""
    }
   },
   "outputs": [],
   "source": []
  }
 ],
 "metadata": {
  "application/vnd.databricks.v1+notebook": {
   "dashboards": [],
   "environmentMetadata": {
    "base_environment": "",
    "client": "1"
   },
   "language": "python",
   "notebookMetadata": {
    "pythonIndentUnit": 2
   },
   "notebookName": "abcbank_incremental_delta_processing",
   "widgets": {}
  },
  "language_info": {
   "name": "python"
  }
 },
 "nbformat": 4,
 "nbformat_minor": 0
}